{
 "cells": [
  {
   "cell_type": "markdown",
   "metadata": {},
   "source": [
    "1. a=\"Hello Python\" 문자열을 Slicing과 연결 연산자 (+)를 사용하여 \"Python Hello\"로 변경하시오.\n",
    " * [주의] a 변수 자체에 \"Python Hello\" 문자열이 저장되어야 함"
   ]
  },
  {
   "cell_type": "code",
   "execution_count": 9,
   "metadata": {
    "scrolled": true
   },
   "outputs": [
    {
     "name": "stdout",
     "output_type": "stream",
     "text": [
      "Hello Python\n",
      "Python Hello\n"
     ]
    }
   ],
   "source": [
    "a = \"Hello Python\"\n",
    "print(a)\n",
    "a = a[6:] + \" \" + a[0:5]\n",
    "print(a)"
   ]
  },
  {
   "cell_type": "markdown",
   "metadata": {},
   "source": [
    "- 문자열을 Slicing으로 Hello와 Python을 불러와서 그 순서를 바꾼 후에 (+) 연산자를 사용하여 Python과 Hello를 이어붙이고 그 사이에 한칸 띄어쓰기를 넣어준다."
   ]
  },
  {
   "cell_type": "markdown",
   "metadata": {},
   "source": [
    "2. b=\"Hello Python World\" 문자열을 Slicing과 연결 연산자 (+)를 사용하여 \"World Python Hello\"로 변경하시오.\n",
    " * [주의] b 변수 자체에 \"World Python Hello\" 문자열이 저장되어야 함"
   ]
  },
  {
   "cell_type": "code",
   "execution_count": 10,
   "metadata": {},
   "outputs": [
    {
     "name": "stdout",
     "output_type": "stream",
     "text": [
      "Hello Python World\n",
      "World Python Hello\n"
     ]
    }
   ],
   "source": [
    "b = \"Hello Python World\"\n",
    "print(b)\n",
    "b = b[13:] + \" \" + b[6:13] + b[0:5]\n",
    "print(b)"
   ]
  },
  {
   "cell_type": "markdown",
   "metadata": {},
   "source": [
    "- 1번과 같은 방법으로 Slicing으로 World, Python , Hello를 불러온 후에 순서를 바꾸고 (+) 연산자를 사용하여 이어붙인다 World와 Python사이에는 한칸 띄어쓰기를 넣어주고 Python과 Hello사이에는 문자열에서 Python을 불러올때 그 뒤에 띄어쓰기까지 함께 불러오는 방법을 사용하면 따로 띄어쓰기를 넣지 않아도 된다."
   ]
  },
  {
   "cell_type": "markdown",
   "metadata": {},
   "source": [
    "3. c=\"Hello\"를 \"olleH\"로 변경하시오\n",
    " * [주의] c 변수 자체에 \"olleH\" 문자열이 저장되어야 함"
   ]
  },
  {
   "cell_type": "code",
   "execution_count": 11,
   "metadata": {
    "scrolled": true
   },
   "outputs": [
    {
     "name": "stdout",
     "output_type": "stream",
     "text": [
      "Hello\n",
      "olleH\n"
     ]
    }
   ],
   "source": [
    "c=\"Hello\"\n",
    "print(c)\n",
    "c = c[::-1]\n",
    "print(c)"
   ]
  },
  {
   "cell_type": "markdown",
   "metadata": {},
   "source": [
    "- 문자열을 Slicing으로 뒤집어야하는데 step을 -1로 설정을 하면 문자열의 맨뒤부터 거꾸로 불러오기 때문에 그 문자열을 저장한다."
   ]
  },
  {
   "cell_type": "markdown",
   "metadata": {},
   "source": [
    "4. s=\"python\"에 대해 다음 문제를 풀어보시오."
   ]
  },
  {
   "cell_type": "code",
   "execution_count": 12,
   "metadata": {
    "scrolled": true
   },
   "outputs": [
    {
     "name": "stdout",
     "output_type": "stream",
     "text": [
      "python\n"
     ]
    }
   ],
   "source": [
    "s = \"python\"\n",
    "print(s)"
   ]
  },
  {
   "cell_type": "markdown",
   "metadata": {},
   "source": [
    "    A. s[0], s[0][0], s[0][0][0]은 각각 어떤 값이 나오는지 확인하고 그 이유를 나름대로 설명해 보시오."
   ]
  },
  {
   "cell_type": "code",
   "execution_count": 13,
   "metadata": {},
   "outputs": [
    {
     "name": "stdout",
     "output_type": "stream",
     "text": [
      "p\n",
      "p\n",
      "p\n"
     ]
    }
   ],
   "source": [
    "print(s[0])\n",
    "print(s[0][0])\n",
    "print(s[0][0][0])"
   ]
  },
  {
   "cell_type": "markdown",
   "metadata": {},
   "source": [
    "- s[0]같은 경우에는 문자열의 첫번째 인덱스 값이므로 p가 나왔다. s[0][0] 같은 경우에는 2차원 배열과 같이 생각해서 (0,0)인 p라고 나오는것 같다고 생각한다. s[0][0][0] 같은 경우에도 마찬가지로 3차원 배열과 같이 생각해서 (0,0,0)인 p가 나오는것 같다고 생각한다."
   ]
  },
  {
   "cell_type": "markdown",
   "metadata": {},
   "source": [
    "    B. s[-100], s[100]은 값이 나오는지 에러가 나오는지 확인하고 그 결과에 대한 이유를 나름대로 설명해 보시오."
   ]
  },
  {
   "cell_type": "code",
   "execution_count": 14,
   "metadata": {
    "scrolled": true
   },
   "outputs": [
    {
     "ename": "IndexError",
     "evalue": "string index out of range",
     "output_type": "error",
     "traceback": [
      "\u001b[1;31m---------------------------------------------------------------------------\u001b[0m",
      "\u001b[1;31mIndexError\u001b[0m                                Traceback (most recent call last)",
      "\u001b[1;32m<ipython-input-14-dd2baac26746>\u001b[0m in \u001b[0;36m<module>\u001b[1;34m()\u001b[0m\n\u001b[1;32m----> 1\u001b[1;33m \u001b[0mprint\u001b[0m\u001b[1;33m(\u001b[0m\u001b[0ms\u001b[0m\u001b[1;33m[\u001b[0m\u001b[1;33m-\u001b[0m\u001b[1;36m100\u001b[0m\u001b[1;33m]\u001b[0m\u001b[1;33m)\u001b[0m\u001b[1;33m\u001b[0m\u001b[0m\n\u001b[0m",
      "\u001b[1;31mIndexError\u001b[0m: string index out of range"
     ]
    }
   ],
   "source": [
    "print(s[-100])"
   ]
  },
  {
   "cell_type": "markdown",
   "metadata": {},
   "source": [
    "- 인덱스의 범위보다 크기때문에 에러가 나오게 되었다. 위의 문자열이 허용가능한 인덱스의 범위는 -6~5이다."
   ]
  },
  {
   "cell_type": "code",
   "execution_count": 15,
   "metadata": {},
   "outputs": [
    {
     "ename": "IndexError",
     "evalue": "string index out of range",
     "output_type": "error",
     "traceback": [
      "\u001b[1;31m---------------------------------------------------------------------------\u001b[0m",
      "\u001b[1;31mIndexError\u001b[0m                                Traceback (most recent call last)",
      "\u001b[1;32m<ipython-input-15-4b48abbe85a9>\u001b[0m in \u001b[0;36m<module>\u001b[1;34m()\u001b[0m\n\u001b[1;32m----> 1\u001b[1;33m \u001b[0mprint\u001b[0m\u001b[1;33m(\u001b[0m\u001b[0ms\u001b[0m\u001b[1;33m[\u001b[0m\u001b[1;36m100\u001b[0m\u001b[1;33m]\u001b[0m\u001b[1;33m)\u001b[0m\u001b[1;33m\u001b[0m\u001b[0m\n\u001b[0m",
      "\u001b[1;31mIndexError\u001b[0m: string index out of range"
     ]
    }
   ],
   "source": [
    "print(s[100])"
   ]
  },
  {
   "cell_type": "markdown",
   "metadata": {},
   "source": [
    "- 위와 마찬가지로 인덱스의 범위보다 크기때문에 에러가 나오게 되었다. 위의 문자열이 허용가능한 인덱스의 범위는 -6~5이다."
   ]
  },
  {
   "cell_type": "markdown",
   "metadata": {},
   "source": [
    "    C. s[-100, 100]은 값이 나오는지 에러가 나오는지 확인하고 그 결과에 대한 이유를 나름대로 설명해 보시오."
   ]
  },
  {
   "cell_type": "code",
   "execution_count": 22,
   "metadata": {},
   "outputs": [
    {
     "ename": "TypeError",
     "evalue": "string indices must be integers",
     "output_type": "error",
     "traceback": [
      "\u001b[1;31m---------------------------------------------------------------------------\u001b[0m",
      "\u001b[1;31mTypeError\u001b[0m                                 Traceback (most recent call last)",
      "\u001b[1;32m<ipython-input-22-c209b42beee1>\u001b[0m in \u001b[0;36m<module>\u001b[1;34m()\u001b[0m\n\u001b[1;32m----> 1\u001b[1;33m \u001b[0mprint\u001b[0m\u001b[1;33m(\u001b[0m\u001b[0ms\u001b[0m\u001b[1;33m[\u001b[0m\u001b[1;33m-\u001b[0m\u001b[1;36m100\u001b[0m\u001b[1;33m,\u001b[0m \u001b[1;36m100\u001b[0m\u001b[1;33m]\u001b[0m\u001b[1;33m)\u001b[0m\u001b[1;33m\u001b[0m\u001b[0m\n\u001b[0m",
      "\u001b[1;31mTypeError\u001b[0m: string indices must be integers"
     ]
    }
   ],
   "source": [
    "print(s[-100, 100])"
   ]
  },
  {
   "cell_type": "markdown",
   "metadata": {},
   "source": [
    "- 인덱스에는 반드시 정수만 와야한다고 에러가 나오게 되었다. 문자열 s의 출력하고 싶은 범위를 정하려면 정수 , 정수가 아니라 정수 : 정수로 해야 문자열에서 범위를 정할 수 있다."
   ]
  },
  {
   "cell_type": "markdown",
   "metadata": {},
   "source": [
    "    D. s[1:-1]의 결과를 확인하고 그 결과에 대한 이유를 정확하게 설명하시오."
   ]
  },
  {
   "cell_type": "code",
   "execution_count": 23,
   "metadata": {},
   "outputs": [
    {
     "name": "stdout",
     "output_type": "stream",
     "text": [
      "ytho\n"
     ]
    }
   ],
   "source": [
    "print(s[1:-1])"
   ]
  },
  {
   "cell_type": "markdown",
   "metadata": {},
   "source": [
    "- 문자열에서 s[처음값:끝값]라고 하면 처음값부터 끝값바로 앞까지가 범위이므로 s[1] = y, s[-1] = n이므로 범위는 y부터 n바로앞인 o까지로 ytho가 된다."
   ]
  },
  {
   "cell_type": "markdown",
   "metadata": {},
   "source": [
    "    E. s[3:-3]의 결과를 확인하고 그 결과에 대한 이유를 정확하게 설명하시오."
   ]
  },
  {
   "cell_type": "code",
   "execution_count": 24,
   "metadata": {},
   "outputs": [
    {
     "name": "stdout",
     "output_type": "stream",
     "text": [
      "\n"
     ]
    }
   ],
   "source": [
    "print(s[3:-3])"
   ]
  },
  {
   "cell_type": "markdown",
   "metadata": {},
   "source": [
    "- 위와 마찬가지로 문자열에서 s[처음값:끝값]라고 하면 처음값부터 끝값바로 앞까지가 범위인데 s[3] = s[-3] = h로 두 값이 같으므로 h부터 h바로앞까지가 범위라면 포함되는것이 아무것도 없으므로 아무것도 출력하지 않는다."
   ]
  },
  {
   "cell_type": "markdown",
   "metadata": {},
   "source": [
    "5. for문을 활용하여 1부터 100사이의 홀수를 출력하시오."
   ]
  },
  {
   "cell_type": "code",
   "execution_count": 26,
   "metadata": {},
   "outputs": [
    {
     "name": "stdout",
     "output_type": "stream",
     "text": [
      "1 3 5 7 9 11 13 15 17 19 21 23 25 27 29 31 33 35 37 39 41 43 45 47 49 51 53 55 57 59 61 63 65 67 69 71 73 75 77 79 81 83 85 87 89 91 93 95 97 99 "
     ]
    }
   ],
   "source": [
    "for a in range(1,100,2):\n",
    "    print(a,end=\" \")"
   ]
  },
  {
   "cell_type": "markdown",
   "metadata": {},
   "source": [
    "- for문을 이용하여 a를 range를 이용하여 1부터 99까지 step이 2인 범위를 만들면 범위에는 홀수만 들어가게 된다. 이 홀수들을 출력을 하고 출력을 할때 아래로 길어지지 않게하기 위해서 ,end = \" \"를 넣어 각각의 수를 출력하고 그뒤에 띄어쓰기를 하게 했다."
   ]
  },
  {
   "cell_type": "markdown",
   "metadata": {},
   "source": [
    "6. while문을 활용하여 1부터 100사이의 짝수의 합을 계산하여 출력하시오."
   ]
  },
  {
   "cell_type": "code",
   "execution_count": 27,
   "metadata": {},
   "outputs": [
    {
     "name": "stdout",
     "output_type": "stream",
     "text": [
      "2550\n"
     ]
    }
   ],
   "source": [
    "sum = 0\n",
    "a = 0\n",
    "while a < 100:\n",
    "    a = a + 2\n",
    "    sum = sum + a\n",
    "print(sum)"
   ]
  },
  {
   "cell_type": "markdown",
   "metadata": {},
   "source": [
    "- a와 sum을 0으로 초기화 시킨후에 while을 이용해서 0부터 99까지 2씩더한 수를 a에 넣는다 이 수들이 1부터 100사이의 짝수가 된다 이제 그 a들을 sum에 계속 더해주면 그 짝수들의 합을 계산할 수 있다 마지막으로 sum을 출력을 한다."
   ]
  },
  {
   "cell_type": "markdown",
   "metadata": {},
   "source": [
    "7. 사용자로 부터 임의의 정수를 입력받고, 해당 숫자를 역순으로 출력하는 프로그램을 작성하시오.\n",
    "        [실행 예]\n",
    "        \n",
    "        정수를 입력하세요 : 3125\n",
    "        숫자 역순은 5213 입니다."
   ]
  },
  {
   "cell_type": "code",
   "execution_count": 28,
   "metadata": {},
   "outputs": [
    {
     "name": "stdout",
     "output_type": "stream",
     "text": [
      "정수를 입력하세요 : 46925\n",
      "숫자 역순은 52964 입니다.\n"
     ]
    }
   ],
   "source": [
    "integer = input('정수를 입력하세요 : ')\n",
    "print(\"숫자 역순은 \" + integer[::-1] + \" 입니다.\")"
   ]
  },
  {
   "cell_type": "markdown",
   "metadata": {},
   "source": [
    "- input()을 사용해서 숫자를 입력받는데 input()은 기본적으로 str형식으로 받게 된다. 그래서 숫자를 입력받으면 문자열형태로 받게되므로 문자열을 뒤집어서 출력을 하면 숫자의 역순을 출력할 수 있게 된다."
   ]
  },
  {
   "cell_type": "markdown",
   "metadata": {},
   "source": [
    "8. 사용자로 부터 정수를 입력받아서 1부터 그 사이에 존재하는 소수 (Prime number)를 출력하는 파이썬 프로그램을 작성하시오."
   ]
  },
  {
   "cell_type": "code",
   "execution_count": 4,
   "metadata": {},
   "outputs": [
    {
     "name": "stdout",
     "output_type": "stream",
     "text": [
      "30\n",
      "2 3 5 7 11 13 17 19 23 29 "
     ]
    }
   ],
   "source": [
    "integer = int(input())\n",
    "for a in range(2,integer):\n",
    "    if a == 2:\n",
    "        print(2, end = \" \")\n",
    "    elif a > 2:\n",
    "        for b in range(1,a-1):\n",
    "            if a%(a-b) == 0:\n",
    "                break\n",
    "            if b == a-2:\n",
    "                print(a,end = \" \")"
   ]
  },
  {
   "cell_type": "markdown",
   "metadata": {},
   "source": [
    "- 숫자를 input()을 사용하여 int형식으로 입력받은 후에 for문을 사용하여 2부터 입력받은 정수 바로 앞까지 범위를 정하고 2는 소수이므로 바로 출력을 한다. 3부터는 for문을 한번 더 사용해서 자기 자신을 1을 제외하고 자기 자신보다 낮은 다른 모든 수들로 나누어 본후에 하나라도 나누어떨어진다면 소수가 아니므로 바로 그 수에 대해서는 검사를 하지 않고 다음으로 바로 넘어간다. 계속 그렇게 하다가 전부 나누어지지 않으면 소수이므로 그 수를 출력한다."
   ]
  },
  {
   "cell_type": "markdown",
   "metadata": {},
   "source": [
    "9. [ACM-ICPC 문제 2441번]\n",
    " * 별찍기 - 4"
   ]
  },
  {
   "cell_type": "code",
   "execution_count": 1,
   "metadata": {
    "scrolled": true
   },
   "outputs": [
    {
     "name": "stdout",
     "output_type": "stream",
     "text": [
      "5\n",
      "*****\n",
      " ****\n",
      "  ***\n",
      "   **\n",
      "    *\n"
     ]
    }
   ],
   "source": [
    "x = int(input())\n",
    "for a in range(0,x):\n",
    "    for b in range(0,a):\n",
    "        print(\" \",end=\"\")\n",
    "    for c in range(0,x-a):\n",
    "        print(\"*\",end=\"\")\n",
    "    print()"
   ]
  },
  {
   "cell_type": "markdown",
   "metadata": {},
   "source": [
    "- 숫자를 input()을 사용하여 int형식으로 입력받은 후에 for문을 사용하여 0부터 입력받은 정수 바로 앞까지 범위를 정하고 출력하고 있는 줄 수에 따라서 for문을 사용하여 총 줄수에서 자신의 줄수 - 1만큼 띄어쓰기를 하고 그 다음에 다시 for문을 사용하여 남은 칸만큼 * 을 채워준다"
   ]
  },
  {
   "cell_type": "code",
   "execution_count": 4,
   "metadata": {},
   "outputs": [
    {
     "name": "stderr",
     "output_type": "stream",
     "text": [
      "'[]'은(는) 내부 또는 외부 명령, 실행할 수 있는 프로그램, 또는\n",
      "배치 파일이 아닙니다.\n"
     ]
    }
   ],
   "source": []
  },
  {
   "cell_type": "markdown",
   "metadata": {},
   "source": [
    "10. [ACM-ICPC 문제 11721번]\n",
    " * 열 개씩 끊어 출력하기"
   ]
  },
  {
   "cell_type": "code",
   "execution_count": 2,
   "metadata": {
    "scrolled": true
   },
   "outputs": [
    {
     "name": "stdout",
     "output_type": "stream",
     "text": [
      "OneTwoThreeFourFiveSixSevenEightNineTen\n",
      "OneTwoThre\n",
      "eFourFiveS\n",
      "ixSevenEig\n",
      "htNineTen"
     ]
    }
   ],
   "source": [
    "word = input()\n",
    "for a in range(0,len(word)):\n",
    "    print(word[a],end = \"\")\n",
    "    if (a+1)%10 == 0:\n",
    "        print()"
   ]
  },
  {
   "cell_type": "markdown",
   "metadata": {},
   "source": [
    "- 숫자를 input()을 사용하여 int형식으로 입력받은 후에 for문을 사용하여 0부터 입력받은 문자열의 길이의 수 바로 앞까지 범위를 정하고 for문을 사용해서 한 문자씩 출력을 하고 10의 배수만큼 문자를 출력했다면 줄바꿈을 하고 다시 다음 문자를 출력한다."
   ]
  },
  {
   "cell_type": "markdown",
   "metadata": {},
   "source": [
    "11. [ACM-ICPC 문제 2839번]\n",
    " * 설탕배달"
   ]
  },
  {
   "cell_type": "code",
   "execution_count": 5,
   "metadata": {},
   "outputs": [
    {
     "name": "stdout",
     "output_type": "stream",
     "text": [
      "18\n",
      "4\n"
     ]
    }
   ],
   "source": [
    "sugar = int(input())\n",
    "t = f = d = 0\n",
    "for a in range(0,sugar):\n",
    "    d = d + 1\n",
    "    if d == 3:\n",
    "        d = 0\n",
    "        t = t + 1\n",
    "    elif (d == 2) and (t >= 1):\n",
    "        d = 0\n",
    "        t = t - 1\n",
    "        f = f + 1\n",
    "    elif (d == 1) and (t >= 3):\n",
    "        d = 0\n",
    "        t = t - 3\n",
    "        f = f + 2\n",
    "    elif (d == 1) and (f >= 1):\n",
    "        d = 0\n",
    "        f = f - 1\n",
    "        t = t + 2\n",
    "if d != 0:\n",
    "    print(-1)\n",
    "else:\n",
    "    print(t+f)"
   ]
  },
  {
   "cell_type": "markdown",
   "metadata": {},
   "source": [
    "- 숫자를 input()을 사용하여 int형식으로 입력받은 후에 t(3)와 f(5)와 d(나머지)를 0으로 초기화한다 for문을 사용하여 0부터 입력받은 문자열의 길이의 수 바로 앞까지 범위를 정하고 나머지를 1씩 더하면서 3이 꽉차면 t(3)로 한봉지로 만든다(t+1, d=0). 나머지가 2인데 t(3)가 한봉지 이상 있으면 나머지 2와 t(3) 한봉지를 f(5) 한봉지로 만든다(t-1, f+1, d=0). 나머지가 1인데 t(3)이 3봉지 이상이면 나머지 1과 t(3) 3봉지를 f(5) 2봉지로 만든다(t-3,f+2,d=0). 나머지가 1인데 f(5)이 한봉지 이상이면 나머지 1과 f(5) 한봉지를 t(3) 두봉지로 만든다(t+2,f-1,d=0). 나머지가 1로 같을때 f보다 t를 먼저 확인하는 이유는 t를 먼저 확인하면 전체 봉지의 수가 1줄어드는데 f를 먼저 확인하면 전체 봉지의 수가 1늘어나므로 최소한의 봉지를 사용하려면 t부터 확인을 해야 한다. 모든 설탕을 다 나누었을때 나머지가 생긴다면 정확하게 만들수가 없다는 것이므로 -1을 출력하고 그렇지 않다면 t와 f의 봉지수를 더한값을 출력한다."
   ]
  },
  {
   "cell_type": "markdown",
   "metadata": {},
   "source": [
    "### 숙제 이후 소감\n",
    " - 처음에 파이썬이라는 언어를 배울때 c언어와는 같은것 같으면서도 다른점이 있어서 적응하기가 조금 힘들었습니다. 하지만 강의를 들으면서 조금씩 이해를 하게 되었습니다. 숙제를 하면서 강의자료를 다시 읽어보면서 했는데 생각보다 어렵지 않게 할 수 있었습니다. 복잡해보이는것도 있었지만 하다보니 조금씩 해결해나갈수 있었습니다."
   ]
  }
 ],
 "metadata": {
  "kernelspec": {
   "display_name": "Python 3",
   "language": "python",
   "name": "python3"
  },
  "language_info": {
   "codemirror_mode": {
    "name": "ipython",
    "version": 3
   },
   "file_extension": ".py",
   "mimetype": "text/x-python",
   "name": "python",
   "nbconvert_exporter": "python",
   "pygments_lexer": "ipython3",
   "version": "3.6.5"
  }
 },
 "nbformat": 4,
 "nbformat_minor": 2
}
