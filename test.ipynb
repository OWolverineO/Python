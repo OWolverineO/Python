{
 "cells": [
  {
   "cell_type": "markdown",
   "metadata": {},
   "source": [
    " 1) 파일 s.txt을 읽어서 각 라인에 있는 첫 번째 단어(문자열) 자체들을 기준으로 라인별 정렬후 파일 s1.txt에 그 결과를 기록하는 코드를 작성하시오. 즉, 프로그램 수행 후 s1.txt에 있는 파일 내용은 다음과 같다.\n",
    "\n",
    "cat dog\n",
    "dog pig\n",
    "ham bird\n",
    "pig ham"
   ]
  },
  {
   "cell_type": "code",
   "execution_count": null,
   "metadata": {},
   "outputs": [],
   "source": [
    "f = open('s.txt','r')\n",
    "print('s.txt')\n",
    "print(f.read())\n",
    "f.close()\n",
    "\n",
    "f = open('s.txt', 'r')\n",
    "list = []\n",
    "list2 = []\n",
    "for line in f:\n",
    "    list.append(line.split())\n",
    "list.sort()\n",
    "for l in list:\n",
    "    list2.append(' '.join(l))\n",
    "f.close()\n",
    "    \n",
    "f = open('s1.txt', 'w')\n",
    "f.write('\\n'.join(list2))\n",
    "f.close()\n",
    "\n",
    "f = open('s1.txt','r')\n",
    "print('\\ns1.txt')\n",
    "print(f.read())\n",
    "f.close()"
   ]
  },
  {
   "cell_type": "code",
   "execution_count": null,
   "metadata": {},
   "outputs": [],
   "source": [
    "f = open('s.txt','r')\n",
    "print('s.txt')\n",
    "print(f.read())\n",
    "f.close()\n",
    "\n",
    "f = open('s.txt', 'r')\n",
    "list = []\n",
    "list2 = []\n",
    "for line in f:\n",
    "    list.append(line.split())\n",
    "    \n",
    "def cmp_by_each_element(a):\n",
    "    return a[1]\n",
    "\n",
    "list.sort(key=cmp_by_each_element)\n",
    "for l in list:\n",
    "    list2.append(' '.join(l))\n",
    "f.close()\n",
    "\n",
    "f = open('s2.txt', 'w')\n",
    "f.write('\\n'.join(list2))\n",
    "f.close()\n",
    "\n",
    "f = open('s2.txt','r')\n",
    "print('\\ns2.txt')\n",
    "print(f.read())\n",
    "f.close()"
   ]
  },
  {
   "cell_type": "code",
   "execution_count": null,
   "metadata": {},
   "outputs": [],
   "source": [
    "f = open('s.txt','r')\n",
    "print('s.txt')\n",
    "print(f.read())\n",
    "f.close()\n",
    "\n",
    "f = open('s.txt', 'r')\n",
    "list = []\n",
    "for line in f:\n",
    "    for i in line.split():\n",
    "        list.append(i)\n",
    "f.close()\n",
    "\n",
    "f = open('s3.txt','w')\n",
    "count=1;\n",
    "for j in list:\n",
    "    f.write(j)\n",
    "    if count%3 == 0:\n",
    "        f.write('\\n')\n",
    "    else:\n",
    "        f.write(' ')\n",
    "    count+=1\n",
    "f.close()\n",
    "\n",
    "f = open('s3.txt','r')\n",
    "print('\\ns3.txt')\n",
    "print(f.read())\n",
    "f.close()"
   ]
  },
  {
   "cell_type": "code",
   "execution_count": 37,
   "metadata": {},
   "outputs": [
    {
     "ename": "SyntaxError",
     "evalue": "invalid syntax (<ipython-input-37-0e971a2a15f0>, line 1)",
     "output_type": "error",
     "traceback": [
      "\u001b[1;36m  File \u001b[1;32m\"<ipython-input-37-0e971a2a15f0>\"\u001b[1;36m, line \u001b[1;32m1\u001b[0m\n\u001b[1;33m    def frange([start=0.0,]stop,step=0.1):\u001b[0m\n\u001b[1;37m               ^\u001b[0m\n\u001b[1;31mSyntaxError\u001b[0m\u001b[1;31m:\u001b[0m invalid syntax\n"
     ]
    }
   ],
   "source": [
    "def frange(start=0.0,stop,step=0.1):\n",
    "    list = []\n",
    "    while start < stop:\n",
    "        list.append(start)\n",
    "        start = round(start + step,5)\n",
    "    print(list)\n"
   ]
  },
  {
   "cell_type": "code",
   "execution_count": 33,
   "metadata": {},
   "outputs": [
    {
     "name": "stdout",
     "output_type": "stream",
     "text": [
      "[0.0, 0.1, 0.2, 0.3, 0.4]\n"
     ]
    }
   ],
   "source": [
    "frange(0.5)"
   ]
  },
  {
   "cell_type": "code",
   "execution_count": 34,
   "metadata": {},
   "outputs": [
    {
     "ename": "TypeError",
     "evalue": "frange() takes 1 positional argument but 2 were given",
     "output_type": "error",
     "traceback": [
      "\u001b[1;31m---------------------------------------------------------------------------\u001b[0m",
      "\u001b[1;31mTypeError\u001b[0m                                 Traceback (most recent call last)",
      "\u001b[1;32m<ipython-input-34-da87a26d596b>\u001b[0m in \u001b[0;36m<module>\u001b[1;34m()\u001b[0m\n\u001b[1;32m----> 1\u001b[1;33m \u001b[0mfrange\u001b[0m\u001b[1;33m(\u001b[0m\u001b[1;36m1.0\u001b[0m\u001b[1;33m,\u001b[0m \u001b[1;36m2.0\u001b[0m\u001b[1;33m)\u001b[0m\u001b[1;33m\u001b[0m\u001b[0m\n\u001b[0m",
      "\u001b[1;31mTypeError\u001b[0m: frange() takes 1 positional argument but 2 were given"
     ]
    }
   ],
   "source": [
    "frange(1.0, 2.0)"
   ]
  },
  {
   "cell_type": "code",
   "execution_count": 35,
   "metadata": {},
   "outputs": [
    {
     "ename": "TypeError",
     "evalue": "frange() takes 1 positional argument but 3 were given",
     "output_type": "error",
     "traceback": [
      "\u001b[1;31m---------------------------------------------------------------------------\u001b[0m",
      "\u001b[1;31mTypeError\u001b[0m                                 Traceback (most recent call last)",
      "\u001b[1;32m<ipython-input-35-7246218ee461>\u001b[0m in \u001b[0;36m<module>\u001b[1;34m()\u001b[0m\n\u001b[1;32m----> 1\u001b[1;33m \u001b[0mfrange\u001b[0m\u001b[1;33m(\u001b[0m\u001b[1;36m2.2\u001b[0m\u001b[1;33m,\u001b[0m \u001b[1;36m4.0\u001b[0m\u001b[1;33m,\u001b[0m \u001b[1;36m0.5\u001b[0m\u001b[1;33m)\u001b[0m\u001b[1;33m\u001b[0m\u001b[0m\n\u001b[0m",
      "\u001b[1;31mTypeError\u001b[0m: frange() takes 1 positional argument but 3 were given"
     ]
    }
   ],
   "source": [
    "frange(2.2, 4.0, 0.5)"
   ]
  },
  {
   "cell_type": "code",
   "execution_count": 38,
   "metadata": {},
   "outputs": [
    {
     "data": {
      "text/plain": [
       "range(0, 2)"
      ]
     },
     "execution_count": 38,
     "metadata": {},
     "output_type": "execute_result"
    }
   ],
   "source": [
    "range(2)"
   ]
  },
  {
   "cell_type": "code",
   "execution_count": 39,
   "metadata": {},
   "outputs": [
    {
     "data": {
      "text/plain": [
       "range(2, 6)"
      ]
     },
     "execution_count": 39,
     "metadata": {},
     "output_type": "execute_result"
    }
   ],
   "source": [
    "range(2,6)"
   ]
  },
  {
   "cell_type": "code",
   "execution_count": 41,
   "metadata": {},
   "outputs": [
    {
     "data": {
      "text/plain": [
       "range(2, 6, 2)"
      ]
     },
     "execution_count": 41,
     "metadata": {},
     "output_type": "execute_result"
    }
   ],
   "source": [
    "range(2,6,2)"
   ]
  },
  {
   "cell_type": "code",
   "execution_count": 1,
   "metadata": {},
   "outputs": [
    {
     "name": "stdout",
     "output_type": "stream",
     "text": [
      "가장 많이 출현한 단어\n",
      "1. KOREATECH, 횟수 = 21\n",
      "2. 대학, 횟수 = 11\n",
      "3. 생활관, 횟수 = 7\n",
      "가장 많이 출현한 단어\n",
      "1. 보기, 횟수 = 21\n",
      "2. 데이터랩, 횟수 = 20\n",
      "3. 그래프, 횟수 = 20\n",
      "가장 많이 출현한 단어\n",
      "1. osmac, 횟수 = 168\n",
      "2. suggestBox, 횟수 = 96\n",
      "3. keyboardlayer, 횟수 = 78\n",
      "가장 많이 출현한 단어\n",
      "1. 동영상, 횟수 = 121\n",
      "2. 재생, 횟수 = 111\n",
      "3. 전, 횟수 = 104\n",
      "가장 많이 출현한 단어\n",
      "1. 문서, 횟수 = 31\n",
      "2. 토론, 횟수 = 16\n",
      "3. 내용, 횟수 = 15\n"
     ]
    }
   ],
   "source": [
    "import requests\n",
    "import string\n",
    "import pickle\n",
    "\n",
    "def search(site,sear=''):\n",
    "\n",
    "    req = requests.get(site)\n",
    "\n",
    "    source = req.text\n",
    "\n",
    "    site = site[site.find('/')+2:]\n",
    "\n",
    "    f = open(site+'.html','w',encoding='UTF8')\n",
    "    f.write(source)\n",
    "    f.close()\n",
    "\n",
    "    while source.find('<style>') > -1:\n",
    "        a = source.find('<style>')\n",
    "        b = source.find('</style>',a)\n",
    "        source = source[:a]+source[b+8:]\n",
    "\n",
    "    while source.find('<script>') > -1:\n",
    "        a = source.find('<script>')\n",
    "        b = source.find('</script>',a)\n",
    "        source = source[:a]+source[b+9:]\n",
    "\n",
    "    while source.find('<') > -1:\n",
    "        a = source.find('<')\n",
    "        b = source.find('>',a)\n",
    "        source = source[:a]+source[b+1:]\n",
    "\n",
    "    lists = source.split()\n",
    "\n",
    "    for x in range(len(lists)):\n",
    "        for y in list(string.punctuation):\n",
    "            while lists[x].find(y) > -1:\n",
    "                a = lists[x].find(y)\n",
    "                lists[x] = lists[x][:a] + lists[x][a+1:]\n",
    "\n",
    "    f = open('Hstopword.txt','r')\n",
    "    hs = f.read().split('\\n')\n",
    "    f.close()\n",
    "\n",
    "    f = open('Estopword.txt','r')\n",
    "    es = f.read().split()\n",
    "    f.close()\n",
    "\n",
    "    for x in range(len(lists)):\n",
    "        for y in hs:\n",
    "            if y == lists[x][-len(y):]:\n",
    "                lists[x] = lists[x][:-len(y)]\n",
    "                break\n",
    "    fi = ['0','1','2','3','4','5','6','7','8','9']\n",
    "\n",
    "    l = []\n",
    "    for x in range(len(lists)):\n",
    "        if lists[x] == '':\n",
    "            continue\n",
    "        if lists[x].lower in es:\n",
    "            continue\n",
    "        if lists[x] in fi:\n",
    "            continue\n",
    "        l.append(lists[x])\n",
    "\n",
    "    word = {}\n",
    "    for x in range(len(l)):\n",
    "        word[l[x]] = l.count(l[x])\n",
    "\n",
    "\n",
    "    f = open(site+'.words_frequency.pickle','wb')\n",
    "    pickle.dump(word,f)\n",
    "    f.close()\n",
    "    \n",
    "    f = open(site+'.words_frequency.pickle', 'rb')\n",
    "    x = pickle.load(f)\n",
    "    f.close()\n",
    "\n",
    "    if sear == '':\n",
    "        m1 = ['',0]\n",
    "        m2 = ['',0]\n",
    "        m3 = ['',0]\n",
    "\n",
    "        for k,v in list(x.items()):\n",
    "            if v > m1[1]:\n",
    "                m3 = m2\n",
    "                m2 = m1\n",
    "                m1 = [k,v]\n",
    "            elif v > m2[1]:\n",
    "                m3 = m2\n",
    "                m2 = [k,v]\n",
    "            elif v > m3[1]:\n",
    "                m3 = [k,v]\n",
    "        print('가장 많이 출현한 단어')\n",
    "        print('1. {0}, 횟수 = {1}'.format(m1[0],m1[1]))\n",
    "        print('2. {0}, 횟수 = {1}'.format(m2[0],m2[1]))\n",
    "        print('3. {0}, 횟수 = {1}'.format(m3[0],m3[1]))\n",
    "    else:\n",
    "        count = 0\n",
    "        sear = sear.split()\n",
    "        for i in range(len(sear)):\n",
    "            for y in hs:\n",
    "                if y == sear[i][-len(y):]:\n",
    "                    sear[i] = sear[i][:-len(y)]\n",
    "                    break\n",
    "        fi = ['0','1','2','3','4','5','6','7','8','9']\n",
    "\n",
    "        l = []\n",
    "        for i in range(len(sear)):\n",
    "            if sear[i].lower in es:\n",
    "                continue\n",
    "            if sear[i] in fi:\n",
    "                continue\n",
    "            l.append(sear[i])\n",
    "\n",
    "        for k,v in list(x.items()):\n",
    "            for se in sear:\n",
    "                if se in k:\n",
    "                    count += v\n",
    "        return count,site\n",
    "\n",
    "search('http://www.koreatech.ac.kr')\n",
    "search('http://www.naver.com')\n",
    "search('http://www.daum.net')\n",
    "search('http://www.youtube.com')\n",
    "search('https://namu.wiki')\n",
    "    \n",
    "def searword():\n",
    "    sear = input('하나 또는 여러 단어의 검색어를 입력하시오. ')\n",
    "    l = []\n",
    "    l.append(search('http://www.koreatech.ac.kr',sear))\n",
    "    l.append(search('http://www.naver.com',sear))\n",
    "    l.append(search('http://www.daum.net',sear))\n",
    "    l.append(search('http://www.youtube.com',sear))\n",
    "    l.append(search('https://namu.wiki',sear))\n",
    "    l.sort()\n",
    "    l.reverse()\n",
    "    for i in l:\n",
    "        print('{1} 유사도 = {0}'.format(i[0],i[1]))"
   ]
  },
  {
   "cell_type": "code",
   "execution_count": 2,
   "metadata": {},
   "outputs": [
    {
     "name": "stdout",
     "output_type": "stream",
     "text": [
      "하나 또는 여러 단어의 검색어를 입력하시오. 파이썬을 쉽게 공부하는 법\n",
      "www.daum.net 유사도 = 6\n",
      "namu.wiki 유사도 = 2\n",
      "www.youtube.com 유사도 = 1\n",
      "www.naver.com 유사도 = 1\n",
      "www.koreatech.ac.kr 유사도 = 0\n"
     ]
    }
   ],
   "source": [
    "searword()"
   ]
  },
  {
   "cell_type": "code",
   "execution_count": 3,
   "metadata": {},
   "outputs": [
    {
     "name": "stdout",
     "output_type": "stream",
     "text": [
      "하나 또는 여러 단어의 검색어를 입력하시오. 맛있는 음식\n",
      "www.daum.net 유사도 = 3\n",
      "www.youtube.com 유사도 = 2\n",
      "www.naver.com 유사도 = 0\n",
      "www.koreatech.ac.kr 유사도 = 0\n",
      "namu.wiki 유사도 = 0\n"
     ]
    }
   ],
   "source": [
    "searword()"
   ]
  },
  {
   "cell_type": "code",
   "execution_count": null,
   "metadata": {},
   "outputs": [],
   "source": []
  }
 ],
 "metadata": {
  "kernelspec": {
   "display_name": "Python 3",
   "language": "python",
   "name": "python3"
  },
  "language_info": {
   "codemirror_mode": {
    "name": "ipython",
    "version": 3
   },
   "file_extension": ".py",
   "mimetype": "text/x-python",
   "name": "python",
   "nbconvert_exporter": "python",
   "pygments_lexer": "ipython3",
   "version": "3.6.5"
  }
 },
 "nbformat": 4,
 "nbformat_minor": 2
}
