{
 "cells": [
  {
   "cell_type": "markdown",
   "metadata": {},
   "source": [
    "[1번 문제]<br/>\n",
    "파일 s.txt 내의 다음 내용과 함께 아래 문제의 코드를 제시하시오.\n",
    "\n",
    "> pig ham<br/>\n",
    "> cat dog<br/>\n",
    "> ham bird<br/>\n",
    "> dog pig<br/>"
   ]
  },
  {
   "cell_type": "markdown",
   "metadata": {},
   "source": [
    " - 1) 파일 s.txt을 읽어서 각 라인에 있는 첫 번째 단어(문자열) 자체들을 기준으로 라인별 정렬후 파일 s1.txt에 그 결과를 기록하는 코드를 작성하시오. 즉, 프로그램 수행 후 s1.txt에 있는 파일 내용은 다음과 같다.\n",
    "\n",
    "> cat dog<br/>\n",
    "> dog pig<br/>\n",
    "> ham bird<br/>\n",
    "> pig ham<br/>"
   ]
  },
  {
   "cell_type": "code",
   "execution_count": 1,
   "metadata": {},
   "outputs": [
    {
     "name": "stdout",
     "output_type": "stream",
     "text": [
      "s.txt\n",
      "pig ham\n",
      "cat dog\n",
      "ham bird\n",
      "dog pig\n",
      "\n",
      "s1.txt\n",
      "cat dog\n",
      "dog pig\n",
      "ham bird\n",
      "pig ham\n"
     ]
    }
   ],
   "source": [
    "f = open('s.txt','r')\n",
    "print('s.txt')\n",
    "print(f.read())\n",
    "f.close()\n",
    "\n",
    "f = open('s.txt', 'r')\n",
    "list = []\n",
    "list2 = []\n",
    "for line in f:\n",
    "    list.append(line.split())\n",
    "list.sort()\n",
    "for l in list:\n",
    "    list2.append(' '.join(l))\n",
    "f.close()\n",
    "    \n",
    "f = open('s1.txt', 'w')\n",
    "f.write('\\n'.join(list2))\n",
    "f.close()\n",
    "\n",
    "f = open('s1.txt','r')\n",
    "print('\\ns1.txt')\n",
    "print(f.read())\n",
    "f.close()"
   ]
  },
  {
   "cell_type": "markdown",
   "metadata": {},
   "source": [
    "s.txt 파일을 불러와서 라인으로 나눠서 리스트로 만든다. 각각의 라인을 다시 공백을 기준으로 split을 하여 단어 2개로 나눈다. 첫 번째 단어 자체들을 기준으로 정렬을 하는 것이므로 바로 sort함수를 사용하여 정렬을 하고 나누어진 단어를 join함수를 이용하여 다시 합친 후에 s1.txt에 저장을 한다."
   ]
  },
  {
   "cell_type": "markdown",
   "metadata": {},
   "source": [
    "- 2) 파일 s.txt을 읽어서 각 라인에 있는 두 번째 단어(문자열) 자체들을 기준으로 라인별 정렬후 파일 s2.txt에 그 결과를 기록하는 코드를 작성하시오. 즉, 프로그램 수행 후 s2.txt에 있는 파일 내용은 다음과 같다.\n",
    "\n",
    "> ham bird<br/>\n",
    "> cat dog<br/>\n",
    "> pig ham<br/>\n",
    "> dog pig<br/>"
   ]
  },
  {
   "cell_type": "code",
   "execution_count": 2,
   "metadata": {},
   "outputs": [
    {
     "name": "stdout",
     "output_type": "stream",
     "text": [
      "s.txt\n",
      "pig ham\n",
      "cat dog\n",
      "ham bird\n",
      "dog pig\n",
      "\n",
      "s2.txt\n",
      "ham bird\n",
      "cat dog\n",
      "pig ham\n",
      "dog pig\n"
     ]
    }
   ],
   "source": [
    "f = open('s.txt','r')\n",
    "print('s.txt')\n",
    "print(f.read())\n",
    "f.close()\n",
    "\n",
    "f = open('s.txt', 'r')\n",
    "list = []\n",
    "list2 = []\n",
    "for line in f:\n",
    "    list.append(line.split())\n",
    "    \n",
    "def cmp_by_each_element(a):\n",
    "    return a[1]\n",
    "\n",
    "list.sort(key=cmp_by_each_element)\n",
    "for l in list:\n",
    "    list2.append(' '.join(l))\n",
    "f.close()\n",
    "\n",
    "f = open('s2.txt', 'w')\n",
    "f.write('\\n'.join(list2))\n",
    "f.close()\n",
    "\n",
    "f = open('s2.txt','r')\n",
    "print('\\ns2.txt')\n",
    "print(f.read())\n",
    "f.close()"
   ]
  },
  {
   "cell_type": "markdown",
   "metadata": {},
   "source": [
    "위와 같이 s.txt 파일을 불러와서 라인으로 나눠서 리스트로 만든다. 각각의 라인을 다시 공백을 기준으로 split하여 단어 2개로 나눈다. 두 번째 단어 자체들을 기준으로 정렬을 하는 것이므로 1번 인덱스를 반환하는 함수를 만들고 그것을 key로 하여 sort함수를 사용하여 정렬을 하고 나누어진 단어를 join함수를 이용하여 다시 합친 후에 s2.txt에 저장을 한다."
   ]
  },
  {
   "cell_type": "markdown",
   "metadata": {},
   "source": [
    "- 3) 파일 s.txt을 읽어서 각 라인들에 있는 모든 단어들을 순차적으로 다시 나열하되 각 라인에 세 개의 단어들이 오도록 하여 s3.txt에 기록하는 코드를 작성하시오. 즉, 프로그램 수행 후 s3.txt에 있는 파일 내용은 다음과 같다.\n",
    "\n",
    "> pig ham cat<br/>\n",
    "> dog ham bird<br/>\n",
    "> dog pig<br/>"
   ]
  },
  {
   "cell_type": "code",
   "execution_count": 3,
   "metadata": {},
   "outputs": [
    {
     "name": "stdout",
     "output_type": "stream",
     "text": [
      "s.txt\n",
      "pig ham\n",
      "cat dog\n",
      "ham bird\n",
      "dog pig\n",
      "\n",
      "s3.txt\n",
      "pig ham cat\n",
      "dog ham bird\n",
      "dog pig \n"
     ]
    }
   ],
   "source": [
    "f = open('s.txt','r')\n",
    "print('s.txt')\n",
    "print(f.read())\n",
    "f.close()\n",
    "\n",
    "f = open('s.txt', 'r')\n",
    "list = []\n",
    "for line in f:\n",
    "    for i in line.split():\n",
    "        list.append(i)\n",
    "f.close()\n",
    "\n",
    "f = open('s3.txt','w')\n",
    "count=1;\n",
    "for j in list:\n",
    "    f.write(j)\n",
    "    if count%3 == 0:\n",
    "        f.write('\\n')\n",
    "    else:\n",
    "        f.write(' ')\n",
    "    count+=1\n",
    "f.close()\n",
    "\n",
    "f = open('s3.txt','r')\n",
    "print('\\ns3.txt')\n",
    "print(f.read())\n",
    "f.close()"
   ]
  },
  {
   "cell_type": "markdown",
   "metadata": {},
   "source": [
    "s.txt 파일을 불러와서 공백을 기준으로 spilt하면 모든 단어가 리스트에 저장이 된다. 이 요소들을 s3.txt 파일에 저장을 하는데 단어를 저장을 하고 3의 배수 차례로 단어가 저장이 되면 \\n을 저장하여 다음 라인으로 가게한다."
   ]
  },
  {
   "cell_type": "markdown",
   "metadata": {},
   "source": [
    "[2번 문제]<br/>\n",
    "다음과 같은 조건들을 참고하여 회원 가입 및 로그인 프로그램을 작성하시오.\n",
    "\n",
    "* 1) 프로그램 시작 후 다음과 같은 메시지가 출력되어 1, 2, 3 중 하나의 값을 입력 받도록 한다.\n",
    "> Welcome to Our Service\n",
    "> \n",
    "> 1. Sign Up\n",
    "> 2. Sign In\n",
    "> 3. Quit\n",
    "* 2) 1을 선택하면 ID, Password, Name, School의 4가지 정보를 입력받아 파일에 저장하는 프로그램을 작성한다.\n",
    "    * 2-1) 입력된 내용은 access.txt 라는 이름의 텍스트 파일 내에 저장된다.\n",
    "    * 2-2) access.txt 파일의 각 라인에는 가입된 회원 각각의 정보가 \"[id]: [password], [name], [school]\" 형태로 저장된다.\n",
    "    * 2-3) 즉, 가입 회원이 10명이면 access.txt 파일 내에 라인 수도 정확히 10개이다.\n",
    "    * 2-4) 암호화 방식은 sha 모듈을 활용한다. sha 모듈 활용 방법은 본 문제의 마지막에 제시된 sha 활용 예를 참고한다.\n",
    "        * 즉, access.txt 파일 내에 password 정보는 암호화 되어 저장되어야 한다.\n",
    "    * 2-5) 회원 정보를 입력 받을 때 id를 입력 받은 직후 access.txt를 확인하여 이미 존재하는 id가 입력되었다면 다음 메시지를 출력하고 id 정보를 다시 입력받는다.\n",
    "        * Sorry, the entered ID is already used.\n",
    "* 3) 2를 선택하면 ID, Password의 2가지 정보를 입력받는 프로그램을 작성한다.\n",
    "    * 3-1) 입력된 ID 정보가 access.txt에 존재하지 않으면 다음과 같은 메시지를 출력하고 다시 입력받는다.\n",
    "        * Sorry, you are not a registered member.\n",
    "    * 3-2) 입력된 ID가 올바르게 존재하지만 Password 정보가 access.txt 파일에 있는 정보와 불일치하면 다음과 같은 메시지를 출력하고 Password를 다시 입력받는다.\n",
    "        * Sorry, the entered password is not correct.\n",
    "        * 이 때에도 사용자가 입력한 Password 정보와 함께 sha 모듈이 활용되어야 한다.\n",
    "    * 3-3) 입력된 ID와 Password가 모두 올바르면 다음과 같은 메시지를 출력한다.\n",
    "        * Hello [name]!\n",
    "        * 위 [name]에는 access.txt에 기록되어 있는 name 정보를 출력한다.\n",
    "* 4) 3을 선택하면 프로그램이 끝난다."
   ]
  },
  {
   "cell_type": "code",
   "execution_count": 4,
   "metadata": {},
   "outputs": [
    {
     "name": "stdout",
     "output_type": "stream",
     "text": [
      "Welcome to Our Service\n",
      "\n",
      "    1. Sign Up\n",
      "    2. Sign in\n",
      "    3. Quit\n",
      "\n",
      "    1\n",
      "ID = tlsgkscjf96\n",
      "Password = gkscjf56\n",
      "Name = 신한철\n",
      "School = 한기대\n",
      "Welcome to Our Service\n",
      "\n",
      "    1. Sign Up\n",
      "    2. Sign in\n",
      "    3. Quit\n",
      "\n",
      "    1\n",
      "ID = gkscjf96\n",
      "Password = cjf56\n",
      "Name = 한철\n",
      "School = 한국기술대\n",
      "Welcome to Our Service\n",
      "\n",
      "    1. Sign Up\n",
      "    2. Sign in\n",
      "    3. Quit\n",
      "\n",
      "    1\n",
      "ID = tlsgkscjf96\n",
      "Sorry, the entered ID is already used.\n",
      "ID = tlsgkscjf\n",
      "Password = gkscjf\n",
      "Name = 철\n",
      "School = 코리아텍\n",
      "Welcome to Our Service\n",
      "\n",
      "    1. Sign Up\n",
      "    2. Sign in\n",
      "    3. Quit\n",
      "\n",
      "    2\n",
      "ID = cjf\n",
      "Sorry, you are not a registered member.\n",
      "ID = tlsgkscjf96\n",
      "Password = gdgd\n",
      "Sorry, the entered password is not correct.\n",
      "Password = gkscjf56\n",
      "Hello [신한철]!\n",
      "Welcome to Our Service\n",
      "\n",
      "    1. Sign Up\n",
      "    2. Sign in\n",
      "    3. Quit\n",
      "\n",
      "    3\n",
      "[tlsgkscjf96]: [94b079cc1c3ec91e3cac8dfce88d4a58a1dc13ce], [신한철], [한기대]\n",
      "[gkscjf96]: [9bf48bad5732f92e8cd7128ec9953386b7ad88e1], [한철], [한국기술대]\n",
      "[tlsgkscjf]: [ffb1d169ca38d270582375ce1e9da7cc8744ee2e], [철], [코리아텍]\n",
      "\n"
     ]
    }
   ],
   "source": [
    "import hashlib\n",
    "\n",
    "def Mlist(s):\n",
    "    return '[' + s + ']'\n",
    "\n",
    "f = open('access.txt','a')\n",
    "f.close()\n",
    "\n",
    "while True:\n",
    "    i = int(input('''Welcome to Our Service\n",
    "\n",
    "    1. Sign Up\n",
    "    2. Sign in\n",
    "    3. Quit\n",
    "\n",
    "    '''))\n",
    "\n",
    "    if i == 1:\n",
    "        f = open('access.txt','r')\n",
    "        data = f.read().split('\\n')\n",
    "        idst = []\n",
    "        for dat in data:\n",
    "            idst.append(dat[:dat.find(':')])\n",
    "        while True:\n",
    "            lst = []\n",
    "            lst.append(input('ID = '))\n",
    "            if Mlist(lst[0]) in idst:\n",
    "                print('Sorry, the entered ID is already used.')\n",
    "                continue\n",
    "            else:\n",
    "                break\n",
    "        lst.append(hashlib.sha1(bytes(input('Password = '),'utf-8')).hexdigest())\n",
    "        lst.append(input('Name = '))\n",
    "        lst.append(input('School = '))\n",
    "\n",
    "        s = Mlist(lst[0]) + ': '\n",
    "        s += Mlist(lst[1]) + ', '\n",
    "        s += Mlist(lst[2]) + ', '\n",
    "        s += Mlist(lst[3]) + '\\n'\n",
    "\n",
    "        f = open('access.txt','a')\n",
    "        f.write(s)\n",
    "        f.close()\n",
    "    if i == 2:\n",
    "        f = open('access.txt','r')\n",
    "        data = f.read().split('\\n')\n",
    "        line = ''\n",
    "        da = []\n",
    "        while True:\n",
    "            Pid = input('ID = ')\n",
    "            for dat in data:\n",
    "                da = dat.split(': ')\n",
    "                if da[0] == Mlist(Pid):\n",
    "                    line = dat\n",
    "                    break\n",
    "            if line == '':\n",
    "                print('Sorry, you are not a registered member.')\n",
    "                continue\n",
    "            else:\n",
    "                break\n",
    "        while True:\n",
    "            Pw = hashlib.sha1(bytes(input('Password = '),'utf-8')).hexdigest()\n",
    "            d = da[1].split(', ')\n",
    "            if d[0] == Mlist(Pw):\n",
    "                print('Hello {0}!'.format(d[1]))\n",
    "                break\n",
    "            else:\n",
    "                print('Sorry, the entered password is not correct.')\n",
    "                continue  \n",
    "    if i == 3:\n",
    "        break\n",
    "f = open('access.txt','r')\n",
    "print(f.read())\n",
    "f.close()"
   ]
  },
  {
   "cell_type": "markdown",
   "metadata": {},
   "source": [
    "hashlib을 import를 한 후에 문자열에 []를 넣는 함수를 정의한 후에 access.txt 파일이 없다면 생성을 해준다.  while문을 사용하여 1,2,3중 하나를 입력 받는다. 1을 입력받으면 access.txt 파일을 열어서 data에 각 라인을 리스트로 저장을 한다. idst 리스트를 만들어서 각 라인의 id정보를 저장한다.  lst 리스트에 id,password,name,school정보를 입력받는데 id가 파일에 이미 존재한다면 다시 id를 입력받게 한다. 모든 정보에 함수를 이용하여 s에 \"[id]: [password], [name], [school]\"를 저장하고 이것을 access.txt 파일에 추가시킨다. 추가 시킬때 password는 sha를 사용해서 암호화시킨다. 2를 입력받으면 access.txt 파일을 열어서 data에 각 라인을 리스트로 저장을 한다. 빈 문자열 line을 생성하고 id를 입력받는다. data의 id 정보를 da에 저장을 하고 입력받은 id를 비교하여 일치하는 id가 있다면 line에 id를 넣는다. line이 비어있으면 저장된 id가 없다고 출력하고 다시 id를 입력받는다. 저장된 id가 있으면 비밀번호를 입력받는다. 이 비밀번호를 암호화시켜서 id의 비밀번호와 비교를 한다. 비밀번호가 맞으면 이름을 출력하고 틀리면 다시 비밀번호를 입력받는다. 3을 입력받으면 while문을 빠져나오고 access.txt 파일의 내용을 출력한다."
   ]
  },
  {
   "cell_type": "markdown",
   "metadata": {},
   "source": [
    "[3번 문제]<br/>\n",
    "range() 함수와 유사한 frange() 함수를 다음 조건을 참고하여 만드시오.\n",
    "\n",
    "* 1) frange()의 인자 구성은 다음과 같이 range와 동일하지만 각 인수들은 음수를 받지 않는다고 가정한다.\n",
    "    > range(stop)<br/>\n",
    "    > range(start, stop[, step])<br/>\n",
    "\n",
    "* 2) frange() 함수의 인자에 대한 기본 시작(start) 값은 0.0이고, 기본 단계(step) 값은 0.1이다.\n",
    "* 3) frange 사용 예\n",
    "    * 3-1) frange(0.5)\n",
    "        * [0.0, 0.1, 0.2, 0.3, 0.4]\n",
    "    * 3-2) frange(1.0, 2.0)\n",
    "        * [1.0, 1.1, 1.2, 1.3, 1.4, 1.5, 1.6, 1.7, 1.8, 1.9]\n",
    "    * 3-3) frange(2.2, 4.0, 0.5)\n",
    "        * [2.2, 2.7, 3.2, 3.7]"
   ]
  },
  {
   "cell_type": "code",
   "execution_count": 7,
   "metadata": {},
   "outputs": [
    {
     "name": "stdout",
     "output_type": "stream",
     "text": [
      "['0', '0.1', '0.2', '0.3', '0.4']\n",
      "['1', '1.1', '1.2', '1.3', '1.4', '1.5', '1.6', '1.7', '1.8', '1.9']\n",
      "['2.2', '2.7', '3.2', '3.7']\n"
     ]
    }
   ],
   "source": [
    "def frange(s1, *s):\n",
    "    if len(s) == 0:\n",
    "        start = 0.0\n",
    "        stop = s1\n",
    "        step = 0.1\n",
    "    elif len(s) == 1:\n",
    "        start = s1\n",
    "        stop = s[0]\n",
    "        step = 0.1\n",
    "    elif len(s) == 2:\n",
    "        start = s1\n",
    "        stop = s[0]\n",
    "        step = s[1]\n",
    "    lists = []\n",
    "    while start < stop:\n",
    "        lists.append(\"%g\"%start)\n",
    "        start += step\n",
    "    print(lists)\n",
    "frange(0.5)\n",
    "frange(1.0, 2.0)\n",
    "frange(2.2, 4.0, 0.5)"
   ]
  },
  {
   "cell_type": "markdown",
   "metadata": {},
   "source": [
    "frange함수를 가변인수로 받아서 정의를 한다. 가변인수 s의 개수에 따라 다르게 작동하도록 한다. s의 요소가 0개라면 start에 0.0, stop에 s1, step에 0.1을 넣고 s의 요소가 1개라면 start에 s1, stop에 s[0], step에 0.1을 넣고 s의 요소가 2개라면  start에 s1, stop에 s[0], step에 s[1]을 넣는다. 그다음 while문을 사용하여 start보다 stop이 더 작을때까지 lists 리스트에 start를 넣고 start에 step을 넣어준다."
   ]
  },
  {
   "cell_type": "markdown",
   "metadata": {},
   "source": [
    "[4번 문제]<br/>\n",
    "가변인수를 받는 함수 sum()을 다음과 같은 조건을 참고하여 구현하시오\n",
    "\n",
    "* sum() 사용 예\n",
    "    * sum()\n",
    "        * 0\n",
    "    * sum(1, 2)\n",
    "        * 3\n",
    "    * sum(1, 2, 3, 4, 5)\n",
    "        * 15\n",
    "    * sum(1, 5, 7, 2, -10)\n",
    "        * 5"
   ]
  },
  {
   "cell_type": "code",
   "execution_count": 8,
   "metadata": {},
   "outputs": [
    {
     "name": "stdout",
     "output_type": "stream",
     "text": [
      "0\n",
      "3\n",
      "15\n",
      "5\n"
     ]
    }
   ],
   "source": [
    "def sum(n=0, *num):\n",
    "    s = n\n",
    "    for i in num:\n",
    "        s += i\n",
    "    return s\n",
    "\n",
    "print(sum())\n",
    "print(sum(1, 2))\n",
    "print(sum(1, 2, 3, 4, 5))\n",
    "print(sum(1, 5, 7, 2, -10))"
   ]
  },
  {
   "cell_type": "markdown",
   "metadata": {},
   "source": [
    "sum함수를 n을 디폴트 매개변수를 0으로 하고 가변인수 num을 받도록 정의한다. s에 n을 넣고 가변인수 num의 요소들을 하나씩 s에 더하고 s를 리턴한다."
   ]
  },
  {
   "cell_type": "markdown",
   "metadata": {},
   "source": [
    "[5번 문제]<br/>\n",
    "여러 단어로 이루어진 문자열을 입력받아 각 단어의 첫글자로 이루어진 단어를 대문자로 출력하는 myinitial() 함수를 다음 조건을 참고하여 작성하시오.\n",
    "\n",
    "* 1) 다음에 제시되는 함수들을 모두 이용해야 한다.\n",
    "    * split\n",
    "    * map\n",
    "    * join\n",
    "* 2) myinitial() 함수 사용 예\n",
    "    * myinitial(\"as soon as possible\")\n",
    "        * ASAP"
   ]
  },
  {
   "cell_type": "code",
   "execution_count": 1,
   "metadata": {},
   "outputs": [
    {
     "name": "stdout",
     "output_type": "stream",
     "text": [
      "as soon as possible\n",
      "ASAP\n"
     ]
    }
   ],
   "source": [
    "def myinitial():\n",
    "    print(''.join(list(map(lambda x: x[0].upper(), input().split()))))\n",
    "    \n",
    "myinitial()"
   ]
  },
  {
   "cell_type": "markdown",
   "metadata": {},
   "source": [
    "myinitial함수를 정의를 한다. input함수로 문자열을 입력을 받아서 공백을 기준으로 split을 하여 단어로 나눈다. 람다함수를 사용하여 각 단어의 첫글자를 가져와서 대문자로 만든후에 이문자들을 join함수를 이용하여 모두 합쳐서 출력한다."
   ]
  },
  {
   "cell_type": "markdown",
   "metadata": {},
   "source": [
    "[6번 문제]<br/>\n",
    "음이 아닌 정수 n를 입력받으면 n! (factorial)을 계산하는 myfact() 함수를 재귀적 함수로 구현하시오."
   ]
  },
  {
   "cell_type": "code",
   "execution_count": 2,
   "metadata": {},
   "outputs": [
    {
     "name": "stdout",
     "output_type": "stream",
     "text": [
      "100\n",
      "93326215443944152681699238856266700490715968264381621468592963895217599993229915608941463976156518286253697920827223758251185210916864000000000000000000000000\n"
     ]
    }
   ],
   "source": [
    "def fact(num = int(input())):\n",
    "    if num < 0: return\n",
    "    elif num == 0: return 1\n",
    "    else:\n",
    "        return num*fact(num-1)\n",
    "        \n",
    "print(fact())"
   ]
  },
  {
   "cell_type": "markdown",
   "metadata": {},
   "source": [
    "fact함수를 num을 input함수를 디폴트 매개변수로 인자를 받아 정의한다. 입력받은 수가 0보다 작으면 바로 리턴을 한다. 0이면 1을 반환하고 0이 아니면 그 수에서 1을 뺀수를 fact함수의 인자로 넣고 이 함수의 리턴 값에 그 수를 곱하여 리턴시킨다."
   ]
  },
  {
   "cell_type": "markdown",
   "metadata": {},
   "source": [
    "[7번 문제]<br/>\n",
    "(서술형) import string 과 from string import * 의 차이점을 설명하시오."
   ]
  },
  {
   "cell_type": "markdown",
   "metadata": {},
   "source": [
    "import string 은 string 모듈에 존재하는 모든 이름들을 이름 공간으로 불러들여서 string.이름() 형태로 자격 이름을 사용하고 from string import * 은 string 모듈에 존재하는 '__'로 시작되는 이름들을 제외한 모든 이름들을 현재 이름 공간으로 불러들여서 이름() 형태로 자격 이름을 사용한다."
   ]
  },
  {
   "cell_type": "markdown",
   "metadata": {},
   "source": [
    "[8번 문제]<br/>\n",
    "이전 Assignment 3의 마지막 문제는 웹 URL로 지정된 웹페이지를 문자열로 가져와 모든 HTML 태그 및 CSS와 Javascript를 제외한 순수 텍스트를 얻어내고 그 안에 존재하는 단어를 추출하여 각 단어들에 대해 출현빈도를 사전형태({'world': 2, 'hello': 1, 'python': 1})로 저장하여 출력하는 것이었다. 이번에는 Assignment 3를 확장하여 다음과 같은 조건을 만족하도록 구현하시오.\n",
    "\n",
    "* 1) 다음 사이트에서 제시되는 불용어 (Stop words)를 참고하여 이전 숙제에서 구성했던 단어 사전에서 불용어들을 모두 제거하는 코드를 추가하시오.\n",
    "    * 영어 불용어: http://www.lextek.com/manuals/onix/stopwords1.html\n",
    "    * 한글 불용어: https://raw.githubusercontent.com/stopwords-iso/stopwords-ko/master/stopwords-ko.txt\n",
    "* 2) 각 URL로 지정된 웹페이지의 HTML 소스를 파일로 저장하시오.\n",
    "    * URL이 http://URL 이라면 파일명은 URL.html 이다.\n",
    "        * 예: URL이 http://www.cnn.com 이라면 파일명은 www.cnn.com.html 이다.\n",
    "* 3) 단어의 출현빈도가 담긴 사전 객체를 위 HTML 소스 파일과 동일한 폴더에 파일로 저장하시오.\n",
    "    * 파일입출력 (E-learning 13주차) 마지막에 학습한 pickle 모듈을 활용하시오.\n",
    "    * URL이 http://URL 이라면 사전 객체를 담고 있는 파일명은 URL.words_frequency.pickle 이다.\n",
    "        * 예: URL이 http://www.cnn.com 이라면 파일명은 www.cnn.com.words_frequency.pickle 이다.\n",
    "* 4) 최소 5개 이상의 웹 사이트 각각에 대한 HTML 소스 파일과 단어 출현빈도 파일을 저장하시오.\n",
    "    * 즉, 5개의 웹 사이트에 대해 총 10개의 파일을 동일한 폴더에 생성하시오.\n",
    "    * [주의] 가능하면 웹사이트에 단어들이 많고 다루는 주제가 서로 다른 웹 사이트들로 선정하는 것 추천\n",
    "* 5) 위 문제에서 저장한 모든 pickle 파일들을 객체로 다시 로드하여 본인이 저장하여 분석한 사이트들 각각에 대해서 가장 많이 출현한 단어 3개씩를 뽑아 제시하시오.\n",
    "    * 반드시 pickle 모듈로 저장한 5개 이상의 pickle 파일들을 다시 5개 이상의 사전 객체로 로드 하는 코드가 추가되어야 함\n",
    "* 6) 간단한 검색엔진 코딩 (Like Google!!!)\n",
    "    * 사용자에게 임의의 검색어 (하나 또는 여러 단어로 구성) 를 입력받으시오.\n",
    "        * 예:\n",
    "        * 대한민국\n",
    "        * 컴퓨터 공학\n",
    "        * 맛있는 음식\n",
    "        * 파이썬을 쉽게 공부하는 법\n",
    "        * 한기대 장점을 알려주세요\n",
    "    * 입력받은 검색어들에 대해서도 1)에서 제시하는 방법처럼 불용어 처리를 하여 정리\n",
    "    * 입력 받은 검색어와 유사도(Similarity)가 높은 웹 사이트 기준으로 위 4)에서 미리 지정해 놓은 5개 이상의 웹 사이트 URL들을 일렬로 나열하여 출력하시오.\n",
    "        * 검색어와 웹 사이트 간의 유사도는 본인이 스스로 정하시오.\n",
    "        * 유사도를 정하는 최소한의 기준은 단어 출현 빈도를 기반으로 해야 하며, 이외의 본인이 생각하는 방안이 있으면 함께 사용해도 됨.\n",
    "        * 유사도가 높은 웹 사이트가 상위에 출력되어야 함 (즉, 유사도 기준 내림 차순)\n",
    "        * 유사도가 동일한 웹 사이트들에 대해서는 임의 배치함.\n",
    "* 7) [주의] 필수사항\n",
    "    * 위에서 만든 검색엔진 코딩은 매우 간단한 것이라 부족한 점이 많이 존재한다.\n",
    "    * 본인이 생각하기에 상업적인 완성도 높은 검색 로봇/엔진이 되려면 어떤 기능들이 추가적으로 구현되어야 할지 최소 1가지 이상 제시하시오."
   ]
  },
  {
   "cell_type": "code",
   "execution_count": 5,
   "metadata": {},
   "outputs": [
    {
     "name": "stdout",
     "output_type": "stream",
     "text": [
      "가장 많이 출현한 단어\n",
      "1. KOREATECH, 횟수 = 21\n",
      "2. 대학, 횟수 = 11\n",
      "3. 생활관, 횟수 = 7\n",
      "가장 많이 출현한 단어\n",
      "1. 보기, 횟수 = 21\n",
      "2. 데이터랩, 횟수 = 20\n",
      "3. 그래프, 횟수 = 20\n",
      "가장 많이 출현한 단어\n",
      "1. osmac, 횟수 = 168\n",
      "2. suggestBox, 횟수 = 96\n",
      "3. keyboardlayer, 횟수 = 78\n",
      "가장 많이 출현한 단어\n",
      "1. 동영상, 횟수 = 97\n",
      "2. 재생, 횟수 = 89\n",
      "3. 재생지금, 횟수 = 81\n",
      "가장 많이 출현한 단어\n",
      "1. 문서, 횟수 = 31\n",
      "2. 토론, 횟수 = 16\n",
      "3. 내용, 횟수 = 15\n",
      "하나 또는 여러 단어의 검색어를 입력하시오. 파이썬을 쉽게 공부하는 법\n",
      "www.daum.net 유사도 = 7\n",
      "www.naver.com 유사도 = 5\n",
      "www.youtube.com 유사도 = 4\n",
      "namu.wiki 유사도 = 2\n",
      "www.koreatech.ac.kr 유사도 = 0\n"
     ]
    }
   ],
   "source": [
    "import requests\n",
    "import string\n",
    "import pickle\n",
    "\n",
    "def search(site,sear=''):\n",
    "\n",
    "    req = requests.get(site)\n",
    "\n",
    "    source = req.text\n",
    "\n",
    "    site = site[site.find('/')+2:]\n",
    "\n",
    "    f = open(site+'.html','w',encoding='UTF8')\n",
    "    f.write(source)\n",
    "    f.close()\n",
    "\n",
    "    while source.find('<style>') > -1:\n",
    "        a = source.find('<style>')\n",
    "        b = source.find('</style>',a)\n",
    "        source = source[:a]+source[b+8:]\n",
    "\n",
    "    while source.find('<script>') > -1:\n",
    "        a = source.find('<script>')\n",
    "        b = source.find('</script>',a)\n",
    "        source = source[:a]+source[b+9:]\n",
    "\n",
    "    while source.find('<') > -1:\n",
    "        a = source.find('<')\n",
    "        b = source.find('>',a)\n",
    "        source = source[:a]+source[b+1:]\n",
    "\n",
    "    lists = source.split()\n",
    "\n",
    "    for x in range(len(lists)):\n",
    "        for y in list(string.punctuation):\n",
    "            while lists[x].find(y) > -1:\n",
    "                a = lists[x].find(y)\n",
    "                lists[x] = lists[x][:a] + lists[x][a+1:]\n",
    "\n",
    "    f = open('Hstopword.txt','r')\n",
    "    hs = f.read().split('\\n')\n",
    "    f.close()\n",
    "\n",
    "    f = open('Estopword.txt','r')\n",
    "    es = f.read().split()\n",
    "    f.close()\n",
    "\n",
    "    for x in range(len(lists)):\n",
    "        for y in hs:\n",
    "            if y == lists[x][-len(y):]:\n",
    "                lists[x] = lists[x][:-len(y)]\n",
    "                break\n",
    "    fi = ['0','1','2','3','4','5','6','7','8','9']\n",
    "\n",
    "    l = []\n",
    "    for x in range(len(lists)):\n",
    "        if lists[x] == '':\n",
    "            continue\n",
    "        if lists[x].lower in es:\n",
    "            continue\n",
    "        if lists[x] in fi:\n",
    "            continue\n",
    "        l.append(lists[x])\n",
    "\n",
    "    word = {}\n",
    "    for x in range(len(l)):\n",
    "        word[l[x]] = l.count(l[x])\n",
    "\n",
    "\n",
    "    f = open(site+'.words_frequency.pickle','wb')\n",
    "    pickle.dump(word,f)\n",
    "    f.close()\n",
    "    \n",
    "    f = open(site+'.words_frequency.pickle', 'rb')\n",
    "    x = pickle.load(f)\n",
    "    f.close()\n",
    "\n",
    "    if sear == '':\n",
    "        m1 = ['',0]\n",
    "        m2 = ['',0]\n",
    "        m3 = ['',0]\n",
    "\n",
    "        for k,v in list(x.items()):\n",
    "            if v > m1[1]:\n",
    "                m3 = m2\n",
    "                m2 = m1\n",
    "                m1 = [k,v]\n",
    "            elif v > m2[1]:\n",
    "                m3 = m2\n",
    "                m2 = [k,v]\n",
    "            elif v > m3[1]:\n",
    "                m3 = [k,v]\n",
    "        print('가장 많이 출현한 단어')\n",
    "        print('1. {0}, 횟수 = {1}'.format(m1[0],m1[1]))\n",
    "        print('2. {0}, 횟수 = {1}'.format(m2[0],m2[1]))\n",
    "        print('3. {0}, 횟수 = {1}'.format(m3[0],m3[1]))\n",
    "    else:\n",
    "        count = 0\n",
    "        sear = sear.split()\n",
    "        for i in range(len(sear)):\n",
    "            for y in hs:\n",
    "                if y == sear[i][-len(y):]:\n",
    "                    sear[i] = sear[i][:-len(y)]\n",
    "                    break\n",
    "        fi = ['0','1','2','3','4','5','6','7','8','9']\n",
    "\n",
    "        l = []\n",
    "        for i in range(len(sear)):\n",
    "            if sear[i].lower in es:\n",
    "                continue\n",
    "            if sear[i] in fi:\n",
    "                continue\n",
    "            l.append(sear[i])\n",
    "\n",
    "        for k,v in list(x.items()):\n",
    "            for se in sear:\n",
    "                if se in k:\n",
    "                    count += v\n",
    "        return count,site\n",
    "\n",
    "search('http://www.koreatech.ac.kr')\n",
    "search('http://www.naver.com')\n",
    "search('http://www.daum.net')\n",
    "search('http://www.youtube.com')\n",
    "search('https://namu.wiki')\n",
    "    \n",
    "def searword():\n",
    "    sear = input('하나 또는 여러 단어의 검색어를 입력하시오. ')\n",
    "    l = []\n",
    "    l.append(search('http://www.koreatech.ac.kr',sear))\n",
    "    l.append(search('http://www.naver.com',sear))\n",
    "    l.append(search('http://www.daum.net',sear))\n",
    "    l.append(search('http://www.youtube.com',sear))\n",
    "    l.append(search('https://namu.wiki',sear))\n",
    "    l.sort()\n",
    "    l.reverse()\n",
    "    for i in l:\n",
    "        print('{1} 유사도 = {0}'.format(i[0],i[1]))\n",
    "searword()"
   ]
  },
  {
   "cell_type": "markdown",
   "metadata": {},
   "source": [
    "requests와 string과 pickle모듈을 import를 하고 search함수를 site와 디폴트 매개변수로 공백의 문자열을 받는 sear을 인수로 하여 정의한다. site의 웹 URL로 지정된 웹페이지를 문자열로 가져와 모든 HTML 태그 및 CSS와 Javascript를 제외한 순수 텍스트를 얻어내고 이 텍스트에서 불용어를 제거하기 위해 영어 불용어와 한글 불용어가 저장되어있는 파일을 불러서 리스트에 저장을 한다. 텍스트의 단어들의 맨 뒤의 글자가 한글 불용어라면 그 불용어를 제외한 나머지 부분을 단어로 저장을 한다. 리스트를 하나 만들고 텍스트의 모든 단어를 검사하여 공백문자열이거나 영어 불용어이거나 한자리수 숫자이면 리스트에 추가 하지 않고 그것이 아니라면 리스트에 추가를 한다. 빈 사전을 만들어서 각 단어를 key로 각 단어들의 출현빈도를 value값으로 추가를 한다. 그리고 이 사전 객체를 pickle모듈을 활용하여 pickle파일에 저장을 하고 이것을 불러와 사전을 x에 넣는다. 만약 sear가 빈문자열이라면 사전들의 key와 value를 추출하여 출현빈도가 가장 높은 3개의 key와 value를 출력한다. sear가 빈문자열이 아닌경우에는 sear 문자열을 split을 이용하여 단어로 나누고 이 단어들의 불용어를 제거를 한 후에 이 단어들이 사전의 key값에 포함이 된다면 그 출현빈도를 count에 더해주고 count와 site주소를 튜플 형태로 반환한다. 5개의 사이트에 대해서 출현빈도가 가장 높은 3개의 key와 value를 출력한다. 그리고 searword함수를 정의한다. 이 함수는 하나 또는 여러 단어의 검색어를 입력받아 그 검색어에 대한 5개의 사이트의 유사도와 사이트 주소를 리스트에 추가한다. 다 추가한 후에 리스트를 유사도에 대해서 오름차순으로 정렬을 한 후에 역순으로 정렬을 하여 내림차순으로 정렬을 시킨후에 유사도가 높은 사이트순으로 사이트주소와 그 유사도를 출력한다.\n",
    "완성도 높은 검색 로봇/엔진이 되려면 검색하는 단어의 길이가 사전에 있는 길이보다 길 경우에도 유사도가 오를 수 있도록 해야하고 불용어를 제거할때도 꼭 필요한 단어인데 조사로 사용하는 용어와 구별을 할 수 없어서 이것을 구별할 수 있는 기능도 필요할것같다."
   ]
  },
  {
   "cell_type": "markdown",
   "metadata": {},
   "source": [
    "### 숙제 이후 소감\n",
    "- 이번 과제를 하면서 파일에 관한 문제들이 많아서 문제를 풀면서 파일 입출력에 대해서 많이 알게 되었고 암호화 하는 것은 이해하기가 힘들었습니다. 코드의 길이도 너무 길어지는 것 같고 복잡해서 너무 오래걸렸습니다. 다른 문제들은 어렵지 않게 풀수 있었는데 마지막 간단한 검색엔진을 코딩하는데 html파일로 저장, pickle파일로 저장하는 것과 불용어를 제거하는 것이 너무 힘들었다 불용어를 제거하는 경우에 영어불용어는 같으면 바로 지우면 되지만 한글 불용어같은 경우에는 조사로 쓰일때와 단어에 포함되어있는 경우를 구분할 수가 없어서 힘들었습니다. 코딩을 하면서 오류가 많이 생겨서 스트레스를 많이 받았지만 그래도 계속 오류를 고치면서 더욱더 공부가 되었습니다."
   ]
  }
 ],
 "metadata": {
  "kernelspec": {
   "display_name": "Python 3",
   "language": "python",
   "name": "python3"
  },
  "language_info": {
   "codemirror_mode": {
    "name": "ipython",
    "version": 3
   },
   "file_extension": ".py",
   "mimetype": "text/x-python",
   "name": "python",
   "nbconvert_exporter": "python",
   "pygments_lexer": "ipython3",
   "version": "3.6.5"
  }
 },
 "nbformat": 4,
 "nbformat_minor": 2
}
