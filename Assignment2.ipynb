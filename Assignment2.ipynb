{
 "cells": [
  {
   "cell_type": "markdown",
   "metadata": {},
   "source": [
    "**1) 다음 6 개의 Expression에 대해 Evaluation 결과 값을 출력하고, 해당 결과가 나온 이유에 대해 설명하시오**"
   ]
  },
  {
   "cell_type": "markdown",
   "metadata": {},
   "source": [
    "* 1 and 2 and 3 and 4"
   ]
  },
  {
   "cell_type": "code",
   "execution_count": 1,
   "metadata": {},
   "outputs": [
    {
     "name": "stdout",
     "output_type": "stream",
     "text": [
      "4\n"
     ]
    }
   ],
   "source": [
    "print(1 and 2 and 3 and 4)"
   ]
  },
  {
   "cell_type": "markdown",
   "metadata": {},
   "source": [
    "and 연산자는 모두 true값이어야 true이기 때문에 순차적으로 모든 부분을 검사한다 그래서 마지막으로 검사를 한 4가 출력이 된다."
   ]
  },
  {
   "cell_type": "markdown",
   "metadata": {},
   "source": [
    "* 1 or 2 or 3 or 4"
   ]
  },
  {
   "cell_type": "code",
   "execution_count": 2,
   "metadata": {
    "scrolled": true
   },
   "outputs": [
    {
     "name": "stdout",
     "output_type": "stream",
     "text": [
      "1\n"
     ]
    }
   ],
   "source": [
    "print(1 or 2 or 3 or 4)"
   ]
  },
  {
   "cell_type": "markdown",
   "metadata": {},
   "source": [
    "or 연산자는 하나라도 true값이면 ture이기 때문에 순차적으로 검사해서 처음에 나오는 1이 true이기 때문에 뒤에 있는 것들은 검사 할 필요가 없기 때문에 검사를 하지 않아서 1이 출력이 된다."
   ]
  },
  {
   "cell_type": "markdown",
   "metadata": {},
   "source": [
    "* 1 and 2 or 3 and 4"
   ]
  },
  {
   "cell_type": "code",
   "execution_count": 3,
   "metadata": {
    "scrolled": true
   },
   "outputs": [
    {
     "name": "stdout",
     "output_type": "stream",
     "text": [
      "2\n"
     ]
    }
   ],
   "source": [
    "print(1 and 2 or 3 and 4)"
   ]
  },
  {
   "cell_type": "markdown",
   "metadata": {},
   "source": [
    "and 연산자로 인해 1과 2를 검사를 해서 true값이 되었는데 그 뒤에 or 연산자가 있어서 or 앞이 true이기 때문에 뒤는 검사하지 않는다 따라서 2가 출력이 된다."
   ]
  },
  {
   "cell_type": "markdown",
   "metadata": {},
   "source": [
    "* (1 and 2) or (3 and 4)"
   ]
  },
  {
   "cell_type": "code",
   "execution_count": 4,
   "metadata": {},
   "outputs": [
    {
     "name": "stdout",
     "output_type": "stream",
     "text": [
      "2\n"
     ]
    }
   ],
   "source": [
    "print((1 and 2) or (3 and 4))"
   ]
  },
  {
   "cell_type": "markdown",
   "metadata": {},
   "source": [
    "괄호안의 1 and 2를 먼저 검사를 하고 이 값이 true이고 or 연산자가 있어서 뒤는 검사하지 않는다 따라서 2가 출력이 된다."
   ]
  },
  {
   "cell_type": "markdown",
   "metadata": {},
   "source": [
    "* 1 or 2 and 3 or 4"
   ]
  },
  {
   "cell_type": "code",
   "execution_count": 5,
   "metadata": {},
   "outputs": [
    {
     "name": "stdout",
     "output_type": "stream",
     "text": [
      "1\n"
     ]
    }
   ],
   "source": [
    "print(1 or 2 and 3 or 4)"
   ]
  },
  {
   "cell_type": "markdown",
   "metadata": {},
   "source": [
    "or 연산자로 인해 맨 앞의 1이 true값이기 때문에 뒤에 있는 것들은 검사를 하지 않는다 따라서 1이 출력이 된다."
   ]
  },
  {
   "cell_type": "markdown",
   "metadata": {},
   "source": [
    "* (1 or 2) and (3 or 4)"
   ]
  },
  {
   "cell_type": "code",
   "execution_count": 6,
   "metadata": {},
   "outputs": [
    {
     "name": "stdout",
     "output_type": "stream",
     "text": [
      "3\n"
     ]
    }
   ],
   "source": [
    "print((1 or 2) and (3 or 4))"
   ]
  },
  {
   "cell_type": "markdown",
   "metadata": {},
   "source": [
    "괄호안의 1 or 2 를 먼저 검사를 해서 앞의 1만 검사를 하게 되고 and 연산자로 인해 모든 것을 검사를 해야한다. 뒤의 3 or 4를 검사를 할때 앞의 3이 true이므로 뒤는 검사하지 않는다 따라서 3이 출력이 된다."
   ]
  },
  {
   "cell_type": "markdown",
   "metadata": {},
   "source": [
    "**2) 경로에 해당하는 문자열 1개를 입력 받아 그 안에 디렉토리 경로명과 파일명을 분리하여 리스트로 반환하는 함수 div_path(s)를 작성하시오.**"
   ]
  },
  {
   "cell_type": "markdown",
   "metadata": {},
   "source": [
    "* 인자로 전달하는 문자열은 경로만 들어간다고 가정한다.\n",
    "* 각 디렉토리와 파일을 구분하는 문자는 '/'로 가정한다.\n",
    "* 반환하는 리스트의 첫번째 원소는 디렉토리이고 두번째 원소는 파일명이다.\n",
    "* 다음과 같은 실행 및 출력 결과가 도출되어야 한다.\n",
    "    * div_path('/usr/local/bin/python')\n",
    "        * ['/usr/local/bin', 'python']\n",
    "    * div_path('/home/chulsoo/test.txt')\n",
    "        * ['/home/chulsoo', 'test.txt']\n",
    "* [참고] 리스트(l) 내에 새로운 정수값 (예를 들어 10)을 넣는 방법은 l.append(10) 이다."
   ]
  },
  {
   "cell_type": "code",
   "execution_count": 10,
   "metadata": {},
   "outputs": [
    {
     "data": {
      "text/plain": [
       "['/home/chulsoo', 'test.txt']"
      ]
     },
     "execution_count": 10,
     "metadata": {},
     "output_type": "execute_result"
    }
   ],
   "source": [
    "def div_path(s):\n",
    "    f = s[::-1]\n",
    "    a = f.find('/')\n",
    "    s = [s[:len(s)-a-1]]+[s[len(s)-a:]]\n",
    "    return s\n",
    "div_path('/home/chulsoo/test.txt')"
   ]
  },
  {
   "cell_type": "markdown",
   "metadata": {},
   "source": [
    "문자열을 뒤집어서 '/'의 위치를 찾고 문자열의 길이에서 이 값을 빼면 파일명의 첫 문자의 위치가 된다. 문자열 s 에 디렉토리부분과 파일명 부분을 슬라이싱으로 나누어 준 후에 리스트로 저장을 하고 그 값을 반환한다."
   ]
  },
  {
   "cell_type": "markdown",
   "metadata": {},
   "source": [
    "**3) 두 개의 리스트를 인자로 받아서 그 두 개의 리스트에 대한 '합집합'을 반환하는 함수 list_union(lista, listb)를 작성하시오.**"
   ]
  },
  {
   "cell_type": "markdown",
   "metadata": {},
   "source": [
    "* 인자로 전달하는 리스트 2 개에는 정수값만 들어간다고 가정하자.\n",
    "* 함수 내에서 새로운 리스트를 만들어 그 리스트 내에 인자로 받은 두 리스트의 모든 원소를 넣어 반환한다.\n",
    "* 반환하는 리스트에는 절대로 중복된 원소가 들어 있으면 안된다 (집합의 조건).\n",
    "* 반환하는 리스트는 정렬이 되어 있어야 한다.\n",
    "* 다음과 같은 실행 및 출력 결과가 도출되어야 한다.\n",
    "    * list_union([1, 2, 3], [1, 2, 4])\n",
    "        * [1, 2, 3, 4]\n",
    "    * list_union([-10, -5, 0, -1], [100, 9, 0, 9])\n",
    "        * [-10, -5, -1, 0, 9, 100]\n",
    "    * list_union([0, 1, 2], [0, 1, 2])\n",
    "        * [0, 1, 2]\n",
    "* [참고] 리스트(l) 내에 새로운 정수값 (예를 들어 10)을 넣는 방법은 l.append(10) 이다.\n",
    "* [참고] 임의의 정수값 (x)이 리스트 (l) 내에 존재하는지 판단하는 방법은 x in l 이다."
   ]
  },
  {
   "cell_type": "code",
   "execution_count": 11,
   "metadata": {},
   "outputs": [
    {
     "data": {
      "text/plain": [
       "[-10, -5, -1, 0, 9, 100]"
      ]
     },
     "execution_count": 11,
     "metadata": {},
     "output_type": "execute_result"
    }
   ],
   "source": [
    "def list_union(lista,listb):\n",
    "    l = lista\n",
    "    for x in listb:\n",
    "        if not(x in l):\n",
    "            l.append(x)\n",
    "    l.sort()\n",
    "    return l\n",
    "list_union([-10, -5, 0, -1], [100, 9, 0, 9])"
   ]
  },
  {
   "cell_type": "markdown",
   "metadata": {},
   "source": [
    "새로운 리스트 l을 만든 후에 lista를 넣는다. listb의 각 원소에 대해서 리스트 l의 원소들과 중복이 되는지 검사를 한 후 중복이 되는 원소가 없으면 그 원소를 l의 리스트에 새로 추가를 한다. 모두 추가를 한 후에 sort를 이용하여 리스트를 정렬하고 정렬된 리스트를 반환한다."
   ]
  },
  {
   "cell_type": "markdown",
   "metadata": {},
   "source": [
    "**4) [ACM-ICPC 문제 10809번]**\n",
    "* 알파벳 찾기"
   ]
  },
  {
   "cell_type": "markdown",
   "metadata": {},
   "source": [
    "![image](https://github.com/OWolverineO/Python/blob/master/10809.jpg?raw=true)"
   ]
  },
  {
   "cell_type": "code",
   "execution_count": 13,
   "metadata": {},
   "outputs": [
    {
     "name": "stdout",
     "output_type": "stream",
     "text": [
      "baekjoon\n",
      "1 0 -1 -1 2 -1 -1 -1 -1 4 3 -1 -1 7 5 -1 -1 -1 -1 -1 -1 -1 -1 -1 -1 -1 "
     ]
    }
   ],
   "source": [
    "word = input()\n",
    "L = []\n",
    "for x in range(97,123):\n",
    "    L = L + [chr(x)]\n",
    "for x in L:\n",
    "    print(word.find(x),end=\" \")"
   ]
  },
  {
   "cell_type": "markdown",
   "metadata": {},
   "source": [
    "위치를 검색할 문자열을 입력받은 후에 소문자 알파벳들을 아스키코드를 이용하여 리스트에 저장을 하고 for 문을 이용하여 find를 이용하여 각각의 알파벳들이 처음에 등장하는 위치를 출력해준다."
   ]
  },
  {
   "cell_type": "markdown",
   "metadata": {},
   "source": [
    "**5) [ACM-ICPC 문제 2675번]**\n",
    "* 문자열 반복"
   ]
  },
  {
   "cell_type": "markdown",
   "metadata": {},
   "source": [
    "![image](https://github.com/OWolverineO/Python/blob/master/2675.jpg?raw=true)"
   ]
  },
  {
   "cell_type": "code",
   "execution_count": 14,
   "metadata": {},
   "outputs": [
    {
     "name": "stdout",
     "output_type": "stream",
     "text": [
      "2\n",
      "3 ABC\n",
      "AAABBBCCC\n",
      "5 /HTP\n",
      "/////HHHHHTTTTTPPPPP\n"
     ]
    }
   ],
   "source": [
    "read = input()\n",
    "for a in range(int(read)):\n",
    "    testcase = input()\n",
    "    l = list(testcase.split())\n",
    "    p = ''\n",
    "    for x in l[1]:\n",
    "        p = p + x*int(l[0])\n",
    "    print(p)"
   ]
  },
  {
   "cell_type": "markdown",
   "metadata": {},
   "source": [
    "테스트 케이스의 개수를 먼저 입력 받고 그 개수만큼 for문을 실행시킨다 for문 안에서는 테스트 케이스의 반복횟수와 문자열을 입력을 받고 split을 이용하여 반복횟수와 문자열을 리스트에 따로 저장을 해준다. for문을 이용하여 문자열 p에 한 문자씩 반복횟수만큼 다 넣어준 후 그 문자열을 출력한다."
   ]
  },
  {
   "cell_type": "markdown",
   "metadata": {},
   "source": [
    "**6) 웹 URL로 지정된 웹페이지를 문자열로 가져와 1) 모든 HTML 태그를 제외한 순수 텍스트 문자열만을 걸러내고, 2) 그 순수 텍스트 문자열 안에 존재하는 단어가 총 몇개인지 출력하는 프로그램을 작성하시오.**\n",
    "* HTML 태그는 다음 조건을 가지는 것이다.\n",
    "    * < 로 시작하여 >로 끝난다.\n",
    "    * 예를 들어, 아래와 같은 HTML 내용 내에 한 줄이 있다고 가정하자.\n",
    "       * '<'label for=\"keep_signed\"'>'로그인 유지'<'/label'>'\n",
    "    * 위 소스에서 HTML 태그를 제외한 순수 텍스트 문자열은 아래와 같다.\n",
    "        로그인 유지\n",
    "    * 한편, 아래와 같은 HTML 한 줄이 있다고 가정하자.\n",
    "       * '<'link rel=\"stylesheet\" href=\"/common/css/xe.min.css?20150910092654\" /'>'\n",
    "    * 위 한 줄은 HTML 태그로만 구성된 것이며 걸러낼 수 있는 순수 텍스 문자열은 존재하지 않는다.\n",
    "* 단어를 나누는 기준은 오로지 공백문자 (whitespace)이다.\n",
    "    * 즉, 위 순수 텍스트 문자열인 \"로그인 유지\"에서 분리한 단어는 \"로그인\"과 \"유지\"이다.\n",
    "* 중복을 고려하지 않고 무조건 모든 단어의 개수를 세어서 출력한다.\n",
    "* 본 숙제를 위하여 HTML 파싱과 관련된 모듈 (예. BeautifulSoup) 사용 금지"
   ]
  },
  {
   "cell_type": "code",
   "execution_count": 15,
   "metadata": {},
   "outputs": [
    {
     "name": "stdout",
     "output_type": "stream",
     "text": [
      "순수 텍스트 문자열 안에 존재하는 단어는 총 498 개 입니다.\n"
     ]
    }
   ],
   "source": [
    "import requests\n",
    "\n",
    "req = requests.get('http://cse.koreatech.ac.kr')\n",
    "\n",
    "source = req.text\n",
    "\n",
    "while source.find('<') > -1:\n",
    "    a = source.find('<')\n",
    "    b = source.find('>',a)\n",
    "    source = source[:a]+source[b+1:]\n",
    "lists = source.split()\n",
    "print(\"순수 텍스트 문자열 안에 존재하는 단어는 총\",len(lists),\"개 입니다.\")"
   ]
  },
  {
   "cell_type": "markdown",
   "metadata": {},
   "source": [
    "컴퓨터 공학부 웹페이지를 문자열로 가져온 후에 HTML태그를 제외하기 위해 while문을 이용하여 '<'와'>'의 위치를 찾은 후에 슬라이싱을 이용하여 문자열에 '<'앞부분과 '>'의 뒷부분을 저장하여 '<'와'>'사이를 제외시킨다. 이것을 '<'가 나오지 않을때까지 반복을 한다 그렇게 되면 문자열에는 순수한 텍스트 문자열만 남게 된다. 이제 이 문자열을 split를 이용하여 단어를 나누어 리스트로 저장을 하고 이 리스트의 개수를 구하여 출력하면 순수 텍스트 문자열 안에 존재하는 단어의 총 개수를 출력하게 된다."
   ]
  },
  {
   "cell_type": "markdown",
   "metadata": {},
   "source": [
    "### 숙제 이후 소감\n",
    "- 이번 숙제를 할 때에는 이제 파이썬에 대해서 어느정도 익숙해졌습니다. 그리고 숙제의 난이도도 생각보다 많이 어렵지는 않아서 차근차근하니 조금씩 해나가서 숙제를 해결할 수 있게 되었습니다. 특히 마지막 문제에서 그냥 보기에는 어려워 보였지만 한꺼번에 없앤다는 생각을 하지말고 하나씩 차근차근 없애나간다고 생각을 해서 해결할 수 있었습니다."
   ]
  }
 ],
 "metadata": {
  "kernelspec": {
   "display_name": "Python 3",
   "language": "python",
   "name": "python3"
  },
  "language_info": {
   "codemirror_mode": {
    "name": "ipython",
    "version": 3
   },
   "file_extension": ".py",
   "mimetype": "text/x-python",
   "name": "python",
   "nbconvert_exporter": "python",
   "pygments_lexer": "ipython3",
   "version": "3.6.5"
  }
 },
 "nbformat": 4,
 "nbformat_minor": 2
}
